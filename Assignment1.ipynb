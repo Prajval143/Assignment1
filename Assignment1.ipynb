{
 "cells": [
  {
   "cell_type": "markdown",
   "id": "1342b68b",
   "metadata": {},
   "source": [
    "1.*- mathematical operator\n",
    "'hello'-string\n",
    "-87.8- float\n",
    "- :mathematical opeartor\n",
    "/ -mathematical opeartor\n",
    "+ -mathematical opeartor\n",
    "6 -integer"
   ]
  },
  {
   "cell_type": "markdown",
   "id": "41185aa8",
   "metadata": {},
   "source": [
    "2.a string is a value representing text,a variable is a name that can refer to any value"
   ]
  },
  {
   "cell_type": "markdown",
   "id": "7f515869",
   "metadata": {},
   "source": [
    "3.  In Python, numeric data type represent the data which has numeric value.\n",
    "    Numeric value can be integer, floating number or even complex numbers. \n",
    "    These values are defined as int, float and complex class in Python.\n",
    "    \n",
    "    Sequence type In Python, sequence is the ordered collection of similar or different data types. \n",
    "    Sequences allows to store multiple values in an organized and efficient fashion\n",
    "    String,Tuple,List\n",
    "    \n",
    "    Dictionary in Python is an unordered collection of data values, used to store data values like a map, \n",
    "    which unlike other Data Types that hold only single value as an element, Dictionary holds key:value pair"
   ]
  },
  {
   "cell_type": "markdown",
   "id": "49c7f015",
   "metadata": {},
   "source": [
    "4.  An expression is a construct made up of variables, operators, and method invocations,\n",
    "    which are constructed according to the syntax of the language, \n",
    "    that evaluates to a single value."
   ]
  },
  {
   "cell_type": "markdown",
   "id": "2e4e0096",
   "metadata": {},
   "source": [
    "5.Expression is made up of values, containers, and mathematical operators (operands) and the statement \n",
    "is just like a command that a python interpreter executes like print."
   ]
  },
  {
   "cell_type": "markdown",
   "id": "eefdc777",
   "metadata": {},
   "source": [
    "6.23"
   ]
  },
  {
   "cell_type": "markdown",
   "id": "c76648f3",
   "metadata": {},
   "source": [
    "7.spamspamspam"
   ]
  },
  {
   "cell_type": "markdown",
   "id": "28487bc2",
   "metadata": {},
   "source": [
    "8.because we can't start giving variable an integer name. if we, we should begin with, a string-like alphabet name then integer. \n",
    "e100 or eggs100 is valid"
   ]
  },
  {
   "cell_type": "markdown",
   "id": "298428a1",
   "metadata": {},
   "source": [
    "9.str(), int(), float()"
   ]
  },
  {
   "cell_type": "markdown",
   "id": "43d8f0fe",
   "metadata": {},
   "source": [
    "10.because 99 is an integer it cannot be concatenated with strings, if we have to concatenate it we need to do typecasting."
   ]
  }
 ],
 "metadata": {
  "kernelspec": {
   "display_name": "Python 3 (ipykernel)",
   "language": "python",
   "name": "python3"
  },
  "language_info": {
   "codemirror_mode": {
    "name": "ipython",
    "version": 3
   },
   "file_extension": ".py",
   "mimetype": "text/x-python",
   "name": "python",
   "nbconvert_exporter": "python",
   "pygments_lexer": "ipython3",
   "version": "3.9.12"
  }
 },
 "nbformat": 4,
 "nbformat_minor": 5
}
